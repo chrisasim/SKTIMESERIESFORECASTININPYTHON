{
 "cells": [
  {
   "cell_type": "markdown",
   "metadata": {},
   "source": [
    "# How to contribute to sktime\n",
    "\n",
    "sktime is a community-driven project and we're actively looking for new contributors! We're happy to onboard you and help you become familiar with the code base. \n",
    "\n",
    "---\n",
    "\n",
    "## How can I get started?\n",
    "\n",
    "1. Check out our [good-first issues]();\n",
    "2. Comment on the issue if you want to work on it, [raise a new issue]() if you want to propose something else, or [chat to us]() to find out what other things you could work on;\n",
    "3. Read our [Code of Conduct]().\n",
    "\n",
    "Other useful resources are:\n",
    "\n",
    "* Check out [scikit-learn's developer guide](), we assume basic familiarity with scikit-learn,\n",
    "* Work through our [tutorial notebooks](), raise an issue or chat to us if anything doesn't look right.\n",
    "\n",
    "---\n",
    "\n",
    "## What modules can I contribute to?\n",
    "\n",
    "For more details, check out our [development roadmap]() on GitHub. \n",
    "\n",
    "* Time series regression,\n",
    "* Time series annotation, including segmentation and outlier detection,\n",
    "* Extending the forecasting models, adding support for multivariate forecasting and prediction intervals,\n",
    "* Supervised/panel forecasting based on a modified [pysf]() API,\n",
    "* Time series clustering,\n",
    "* Specialised time series data container.\n",
    "\n",
    "You can lead the development of entire new module or make incremental contributions to existing modules. \n",
    "\n",
    "---\n",
    "\n",
    "## All contributions are welcome - not just code! \n",
    "\n",
    "A list of all sktime contributors can be found [here](https://github.com/alan-turing-institute/sktime/blob/master/CONTRIBUTORS.md).\n",
    "\n",
    "<img src=\"../images/all-contributors.png\" />\n",
    "\n",
    "<img src=\"../images/collaborations.png\" />"
   ]
  },
  {
   "cell_type": "markdown",
   "metadata": {},
   "source": [
    "## If you use sktime, please cite us:\n",
    "    \n",
    "\n",
    "Bibtex entry for [our paper](http://learningsys.org/neurips19/assets/papers/sktime_ml_systems_neurips2019.pdf):\n",
    "```\n",
    "@inproceedings{sktime,\n",
    "        author = {L{\\\"{o}}ning, Markus and Bagnall, Anthony and Ganesh, Sajaysurya and Kazakov, Viktor and Lines, Jason and Kir{\\'{a}}ly, Franz J},\n",
    "        booktitle = {Workshop on Systems for ML at NeurIPS 2019},\n",
    "        title = {{sktime: A Unified Interface for Machine Learning with Time Series}},\n",
    "        date = {2019},\n",
    "    }\n",
    "```"
   ]
  },
  {
   "cell_type": "code",
   "execution_count": null,
   "metadata": {},
   "outputs": [],
   "source": []
  }
 ],
 "metadata": {
  "kernelspec": {
   "display_name": "Python 3",
   "language": "python",
   "name": "python3"
  },
  "language_info": {
   "codemirror_mode": {
    "name": "ipython",
    "version": 3
   },
   "file_extension": ".py",
   "mimetype": "text/x-python",
   "name": "python",
   "nbconvert_exporter": "python",
   "pygments_lexer": "ipython3",
   "version": "3.7.3"
  }
 },
 "nbformat": 4,
 "nbformat_minor": 2
}
