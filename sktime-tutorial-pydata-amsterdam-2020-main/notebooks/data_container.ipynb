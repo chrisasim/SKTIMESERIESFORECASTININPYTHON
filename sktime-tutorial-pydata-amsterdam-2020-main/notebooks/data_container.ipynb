{
 "cells": [
  {
   "cell_type": "markdown",
   "metadata": {
    "pycharm": {
     "name": "#%% md\n"
    }
   },
   "source": [
    "# A performant data container for complex time series\n",
    "\n",
    "In this notebook, we will explore an experimental pandas-based data container meant for easy and fast manipulation of multiseries, multivariate time series. The goal is to create a data structure that can contain arbitrarily complex time series together with static, time-independent information (e.g. target labels) and meta-data (e.g. measurement frequency or length of time series).\n",
    "\n",
    "The approach presented here extends pandas' capabilities to store each time series (i.e. a list of timestamp-value pairs) in a single cell. \n",
    "\n",
    "A specification of desired properties of such a data container can be found [in the sktime wiki](https://github.com/alan-turing-institute/sktime/wiki/Time-series-data-container).\n",
    "\n",
    "\n",
    "\n",
    "\n"
   ]
  },
  {
   "cell_type": "markdown",
   "metadata": {},
   "source": [
    "# Example 1: Univariate time series\n",
    "\n",
    "The following code will use a first, rudamentary implementation of a data container to run the [Univariate time series classification](https://alan-turing-institute.github.io/sktime/examples/02_classification_univariate.html) tutorial. Using data from the [GunPoint problem](http://timeseriesclassification.com/description.php?Dataset=GunPoint), it will apply random segmentation and feature extraction to the raw data and then use a single DecisionTree to predict whether an actor draws a gun prop from a holster or just mimes the action."
   ]
  },
  {
   "cell_type": "markdown",
   "metadata": {
    "pycharm": {
     "name": "#%% md\n"
    }
   },
   "source": [
    "## Preliminaries"
   ]
  },
  {
   "cell_type": "code",
   "execution_count": 1,
   "metadata": {
    "pycharm": {
     "is_executing": true
    }
   },
   "outputs": [],
   "source": [
    "# Standard libraries\n",
    "import numpy as np\n",
    "import pandas as pd\n",
    "\n",
    "from sklearn.tree import DecisionTreeClassifier\n",
    "from sklearn.pipeline import Pipeline\n",
    "from sklearn.model_selection import train_test_split\n",
    "\n",
    "from sktime.datasets import load_gunpoint\n",
    "from sktime.utils.time_series import time_series_slope\n",
    "\n",
    "# Custom implementation of a rudimentary data container for equally spaced time series\n",
    "from container import TimeFrame\n",
    "from container.transformers import RandomIntervalFeatureExtractor"
   ]
  },
  {
   "cell_type": "markdown",
   "metadata": {},
   "source": [
    "## Current data container\n",
    "\n",
    "At the moment, sktime uses a nested pandas DataFrame to store arbitrary time series data within a column. Each cell in the `dim_0` column is a pandas Series itself, making the entire column a \"Series-of-Series\". While this is very flexible approach, it can make the data container awkward to work with, results in suboptimal printing in the console, and can be slow for large datasets since most operations on it require iteration."
   ]
  },
  {
   "cell_type": "code",
   "execution_count": 2,
   "metadata": {},
   "outputs": [
    {
     "name": "stdout",
     "output_type": "stream",
     "text": [
      "                                               dim_0 class_val\n",
      "0  0     -0.64789\n",
      "1     -0.64199\n",
      "2     -0.63819\n",
      "3...         2\n",
      "1  0     -0.64443\n",
      "1     -0.64540\n",
      "2     -0.64706\n",
      "3...         2\n",
      "2  0     -0.77835\n",
      "1     -0.77828\n",
      "2     -0.77715\n",
      "3...         1\n"
     ]
    }
   ],
   "source": [
    "X_nested = load_gunpoint(return_X_y=False)\n",
    "X_nested.reset_index(inplace=True, drop=True) # due to a bug only sequential DataFrame indices 0, 1, ... are currently supported\n",
    "print(X_nested[:3])"
   ]
  },
  {
   "cell_type": "markdown",
   "metadata": {},
   "source": [
    "Even if each cell contains a time series of equal length (in this case 150 timesteps), determining this fact requires calling length on each timeseries."
   ]
  },
  {
   "cell_type": "code",
   "execution_count": 3,
   "metadata": {},
   "outputs": [
    {
     "name": "stdout",
     "output_type": "stream",
     "text": [
      "(200,)\n",
      "(200,)\n"
     ]
    }
   ],
   "source": [
    "print(X_nested.dim_0.shape)\n",
    "print(X_nested.dim_0.values.shape)"
   ]
  },
  {
   "cell_type": "code",
   "execution_count": 4,
   "metadata": {
    "pycharm": {
     "name": "#%%\n"
    }
   },
   "outputs": [
    {
     "data": {
      "text/plain": [
       "True"
      ]
     },
     "execution_count": 4,
     "metadata": {},
     "output_type": "execute_result"
    }
   ],
   "source": [
    "np.all(X_nested.dim_0.apply(len) == 150)"
   ]
  },
  {
   "cell_type": "code",
   "execution_count": 5,
   "metadata": {},
   "outputs": [
    {
     "name": "stdout",
     "output_type": "stream",
     "text": [
      "dim_0        object\n",
      "class_val    object\n",
      "dtype: object\n"
     ]
    }
   ],
   "source": [
    "print(X_nested.dtypes)"
   ]
  },
  {
   "cell_type": "markdown",
   "metadata": {
    "pycharm": {
     "name": "#%% md\n"
    }
   },
   "source": [
    "Subsetting these time series might also behave in unexpected ways, implicitely unnesting the dataset into a tabular format with one column per timestep."
   ]
  },
  {
   "cell_type": "code",
   "execution_count": 6,
   "metadata": {
    "pycharm": {
     "name": "#%%\n"
    },
    "scrolled": true
   },
   "outputs": [
    {
     "data": {
      "text/html": [
       "<div>\n",
       "<style scoped>\n",
       "    .dataframe tbody tr th:only-of-type {\n",
       "        vertical-align: middle;\n",
       "    }\n",
       "\n",
       "    .dataframe tbody tr th {\n",
       "        vertical-align: top;\n",
       "    }\n",
       "\n",
       "    .dataframe thead th {\n",
       "        text-align: right;\n",
       "    }\n",
       "</style>\n",
       "<table border=\"1\" class=\"dataframe\">\n",
       "  <thead>\n",
       "    <tr style=\"text-align: right;\">\n",
       "      <th></th>\n",
       "      <th>0</th>\n",
       "      <th>1</th>\n",
       "      <th>2</th>\n",
       "      <th>3</th>\n",
       "      <th>4</th>\n",
       "      <th>5</th>\n",
       "      <th>6</th>\n",
       "      <th>7</th>\n",
       "      <th>8</th>\n",
       "      <th>9</th>\n",
       "    </tr>\n",
       "  </thead>\n",
       "  <tbody>\n",
       "    <tr>\n",
       "      <th>0</th>\n",
       "      <td>-0.64789</td>\n",
       "      <td>-0.64199</td>\n",
       "      <td>-0.63819</td>\n",
       "      <td>-0.63826</td>\n",
       "      <td>-0.63835</td>\n",
       "      <td>-0.63870</td>\n",
       "      <td>-0.64305</td>\n",
       "      <td>-0.64377</td>\n",
       "      <td>-0.64505</td>\n",
       "      <td>-0.64712</td>\n",
       "    </tr>\n",
       "    <tr>\n",
       "      <th>1</th>\n",
       "      <td>-0.64443</td>\n",
       "      <td>-0.64540</td>\n",
       "      <td>-0.64706</td>\n",
       "      <td>-0.64749</td>\n",
       "      <td>-0.64691</td>\n",
       "      <td>-0.64388</td>\n",
       "      <td>-0.63973</td>\n",
       "      <td>-0.63809</td>\n",
       "      <td>-0.63530</td>\n",
       "      <td>-0.63538</td>\n",
       "    </tr>\n",
       "    <tr>\n",
       "      <th>2</th>\n",
       "      <td>-0.77835</td>\n",
       "      <td>-0.77828</td>\n",
       "      <td>-0.77715</td>\n",
       "      <td>-0.77768</td>\n",
       "      <td>-0.77590</td>\n",
       "      <td>-0.77242</td>\n",
       "      <td>-0.76546</td>\n",
       "      <td>-0.76228</td>\n",
       "      <td>-0.76375</td>\n",
       "      <td>-0.76536</td>\n",
       "    </tr>\n",
       "    <tr>\n",
       "      <th>3</th>\n",
       "      <td>-0.75006</td>\n",
       "      <td>-0.74810</td>\n",
       "      <td>-0.74616</td>\n",
       "      <td>-0.74593</td>\n",
       "      <td>-0.74377</td>\n",
       "      <td>-0.74381</td>\n",
       "      <td>-0.74521</td>\n",
       "      <td>-0.74508</td>\n",
       "      <td>-0.74573</td>\n",
       "      <td>-0.74582</td>\n",
       "    </tr>\n",
       "    <tr>\n",
       "      <th>4</th>\n",
       "      <td>-0.59954</td>\n",
       "      <td>-0.59742</td>\n",
       "      <td>-0.59927</td>\n",
       "      <td>-0.59826</td>\n",
       "      <td>-0.59758</td>\n",
       "      <td>-0.59130</td>\n",
       "      <td>-0.58902</td>\n",
       "      <td>-0.58753</td>\n",
       "      <td>-0.58546</td>\n",
       "      <td>-0.58385</td>\n",
       "    </tr>\n",
       "    <tr>\n",
       "      <th>...</th>\n",
       "      <td>...</td>\n",
       "      <td>...</td>\n",
       "      <td>...</td>\n",
       "      <td>...</td>\n",
       "      <td>...</td>\n",
       "      <td>...</td>\n",
       "      <td>...</td>\n",
       "      <td>...</td>\n",
       "      <td>...</td>\n",
       "      <td>...</td>\n",
       "    </tr>\n",
       "    <tr>\n",
       "      <th>195</th>\n",
       "      <td>-0.58001</td>\n",
       "      <td>-0.58333</td>\n",
       "      <td>-0.58611</td>\n",
       "      <td>-0.58912</td>\n",
       "      <td>-0.59195</td>\n",
       "      <td>-0.59920</td>\n",
       "      <td>-0.60929</td>\n",
       "      <td>-0.61850</td>\n",
       "      <td>-0.62716</td>\n",
       "      <td>-0.63600</td>\n",
       "    </tr>\n",
       "    <tr>\n",
       "      <th>196</th>\n",
       "      <td>-0.72815</td>\n",
       "      <td>-0.73024</td>\n",
       "      <td>-0.73356</td>\n",
       "      <td>-0.73419</td>\n",
       "      <td>-0.73433</td>\n",
       "      <td>-0.73466</td>\n",
       "      <td>-0.73386</td>\n",
       "      <td>-0.73340</td>\n",
       "      <td>-0.73293</td>\n",
       "      <td>-0.73182</td>\n",
       "    </tr>\n",
       "    <tr>\n",
       "      <th>197</th>\n",
       "      <td>-0.73801</td>\n",
       "      <td>-0.73630</td>\n",
       "      <td>-0.73123</td>\n",
       "      <td>-0.72846</td>\n",
       "      <td>-0.72888</td>\n",
       "      <td>-0.72737</td>\n",
       "      <td>-0.72453</td>\n",
       "      <td>-0.72092</td>\n",
       "      <td>-0.71983</td>\n",
       "      <td>-0.71923</td>\n",
       "    </tr>\n",
       "    <tr>\n",
       "      <th>198</th>\n",
       "      <td>-1.26510</td>\n",
       "      <td>-1.25610</td>\n",
       "      <td>-1.25940</td>\n",
       "      <td>-1.25640</td>\n",
       "      <td>-1.25330</td>\n",
       "      <td>-1.26010</td>\n",
       "      <td>-1.26510</td>\n",
       "      <td>-1.25640</td>\n",
       "      <td>-1.24640</td>\n",
       "      <td>-1.24910</td>\n",
       "    </tr>\n",
       "    <tr>\n",
       "      <th>199</th>\n",
       "      <td>-1.42720</td>\n",
       "      <td>-1.40830</td>\n",
       "      <td>-1.34710</td>\n",
       "      <td>-1.29170</td>\n",
       "      <td>-1.26630</td>\n",
       "      <td>-1.26440</td>\n",
       "      <td>-1.27150</td>\n",
       "      <td>-1.27520</td>\n",
       "      <td>-1.27870</td>\n",
       "      <td>-1.27940</td>\n",
       "    </tr>\n",
       "  </tbody>\n",
       "</table>\n",
       "<p>200 rows × 10 columns</p>\n",
       "</div>"
      ],
      "text/plain": [
       "           0        1        2        3        4        5        6        7  \\\n",
       "0   -0.64789 -0.64199 -0.63819 -0.63826 -0.63835 -0.63870 -0.64305 -0.64377   \n",
       "1   -0.64443 -0.64540 -0.64706 -0.64749 -0.64691 -0.64388 -0.63973 -0.63809   \n",
       "2   -0.77835 -0.77828 -0.77715 -0.77768 -0.77590 -0.77242 -0.76546 -0.76228   \n",
       "3   -0.75006 -0.74810 -0.74616 -0.74593 -0.74377 -0.74381 -0.74521 -0.74508   \n",
       "4   -0.59954 -0.59742 -0.59927 -0.59826 -0.59758 -0.59130 -0.58902 -0.58753   \n",
       "..       ...      ...      ...      ...      ...      ...      ...      ...   \n",
       "195 -0.58001 -0.58333 -0.58611 -0.58912 -0.59195 -0.59920 -0.60929 -0.61850   \n",
       "196 -0.72815 -0.73024 -0.73356 -0.73419 -0.73433 -0.73466 -0.73386 -0.73340   \n",
       "197 -0.73801 -0.73630 -0.73123 -0.72846 -0.72888 -0.72737 -0.72453 -0.72092   \n",
       "198 -1.26510 -1.25610 -1.25940 -1.25640 -1.25330 -1.26010 -1.26510 -1.25640   \n",
       "199 -1.42720 -1.40830 -1.34710 -1.29170 -1.26630 -1.26440 -1.27150 -1.27520   \n",
       "\n",
       "           8        9  \n",
       "0   -0.64505 -0.64712  \n",
       "1   -0.63530 -0.63538  \n",
       "2   -0.76375 -0.76536  \n",
       "3   -0.74573 -0.74582  \n",
       "4   -0.58546 -0.58385  \n",
       "..       ...      ...  \n",
       "195 -0.62716 -0.63600  \n",
       "196 -0.73293 -0.73182  \n",
       "197 -0.71983 -0.71923  \n",
       "198 -1.24640 -1.24910  \n",
       "199 -1.27870 -1.27940  \n",
       "\n",
       "[200 rows x 10 columns]"
      ]
     },
     "execution_count": 6,
     "metadata": {},
     "output_type": "execute_result"
    }
   ],
   "source": [
    "X_nested.dim_0.apply(lambda x: x[:10])"
   ]
  },
  {
   "cell_type": "code",
   "execution_count": 7,
   "metadata": {},
   "outputs": [
    {
     "name": "stdout",
     "output_type": "stream",
     "text": [
      "                                               dim_0 class_val\n",
      "0  0   -0.64789\n",
      "1   -0.64199\n",
      "2   -0.63819\n",
      "3   -0....         2\n",
      "1  0   -0.64443\n",
      "1   -0.64540\n",
      "2   -0.64706\n",
      "3   -0....         2\n",
      "2  0   -0.77835\n",
      "1   -0.77828\n",
      "2   -0.77715\n",
      "3   -0....         1\n",
      "Maximum time series length 10\n"
     ]
    }
   ],
   "source": [
    "X_subset = X_nested.copy()\n",
    "X_subset['dim_0'] = [x[:10] for x in X_subset['dim_0']]\n",
    "print(X_subset[:3])\n",
    "print(f\"Maximum time series length {max(X_subset.dim_0.apply(len))}\")"
   ]
  },
  {
   "cell_type": "markdown",
   "metadata": {},
   "source": [
    "## Proposed approach\n",
    "\n",
    "The proposed approach tries to alleviate these problems by storing the time series as a single array in the background. In the simple implementation shown here, this can simply be two numpy arrays (one for the time index and one for the data)."
   ]
  },
  {
   "cell_type": "code",
   "execution_count": 8,
   "metadata": {
    "scrolled": true
   },
   "outputs": [
    {
     "data": {
      "text/html": [
       "<div>\n",
       "<style scoped>\n",
       "    .dataframe tbody tr th:only-of-type {\n",
       "        vertical-align: middle;\n",
       "    }\n",
       "\n",
       "    .dataframe tbody tr th {\n",
       "        vertical-align: top;\n",
       "    }\n",
       "\n",
       "    .dataframe thead th {\n",
       "        text-align: right;\n",
       "    }\n",
       "</style>\n",
       "<table border=\"1\" class=\"dataframe\">\n",
       "  <thead>\n",
       "    <tr style=\"text-align: right;\">\n",
       "      <th></th>\n",
       "      <th>dim_0</th>\n",
       "      <th>class_val</th>\n",
       "    </tr>\n",
       "  </thead>\n",
       "  <tbody>\n",
       "    <tr>\n",
       "      <th>0</th>\n",
       "      <td>[0: -0.64789, 1: -0.64199, ...]</td>\n",
       "      <td>2</td>\n",
       "    </tr>\n",
       "    <tr>\n",
       "      <th>1</th>\n",
       "      <td>[0: -0.64443, 1: -0.6454, ...]</td>\n",
       "      <td>2</td>\n",
       "    </tr>\n",
       "    <tr>\n",
       "      <th>2</th>\n",
       "      <td>[0: -0.77835, 1: -0.77828, ...]</td>\n",
       "      <td>1</td>\n",
       "    </tr>\n",
       "    <tr>\n",
       "      <th>3</th>\n",
       "      <td>[0: -0.75006, 1: -0.7481, ...]</td>\n",
       "      <td>1</td>\n",
       "    </tr>\n",
       "    <tr>\n",
       "      <th>4</th>\n",
       "      <td>[0: -0.59954, 1: -0.59742, ...]</td>\n",
       "      <td>2</td>\n",
       "    </tr>\n",
       "  </tbody>\n",
       "</table>\n",
       "</div>"
      ],
      "text/plain": [
       "                             dim_0 class_val\n",
       "0  [0: -0.64789, 1: -0.64199, ...]         2\n",
       "1   [0: -0.64443, 1: -0.6454, ...]         2\n",
       "2  [0: -0.77835, 1: -0.77828, ...]         1\n",
       "3   [0: -0.75006, 1: -0.7481, ...]         1\n",
       "4  [0: -0.59954, 1: -0.59742, ...]         2"
      ]
     },
     "execution_count": 8,
     "metadata": {},
     "output_type": "execute_result"
    }
   ],
   "source": [
    "X = TimeFrame(X_nested, copy=True)\n",
    "X.head()"
   ]
  },
  {
   "cell_type": "code",
   "execution_count": 9,
   "metadata": {},
   "outputs": [
    {
     "name": "stdout",
     "output_type": "stream",
     "text": [
      "<class 'container.timeframe.TimeFrame'>\n",
      "RangeIndex: 200 entries, 0 to 199\n",
      "Data columns (total 2 columns):\n",
      " #   Column     Non-Null Count  Dtype     \n",
      "---  ------     --------------  -----     \n",
      " 0   dim_0      200 non-null    timeseries\n",
      " 1   class_val  200 non-null    object    \n",
      "dtypes: object(1), timeseries(1)\n",
      "memory usage: 236.1+ KB\n"
     ]
    }
   ],
   "source": [
    "X.info()"
   ]
  },
  {
   "cell_type": "markdown",
   "metadata": {
    "pycharm": {
     "name": "#%% md\n"
    }
   },
   "source": [
    "Storing the data in this way has the advantage that the information is stored within fast array-implementations in the background, alleviating the need to loop over pandas Series objects. The column also implicitely knows its column type (=timeseries)."
   ]
  },
  {
   "cell_type": "code",
   "execution_count": 10,
   "metadata": {
    "pycharm": {
     "name": "#%%\n"
    }
   },
   "outputs": [
    {
     "data": {
      "text/plain": [
       "(200, 150)"
      ]
     },
     "execution_count": 10,
     "metadata": {},
     "output_type": "execute_result"
    }
   ],
   "source": [
    "X.dim_0.data.shape  # the column knows its 2D shape, unlike above"
   ]
  },
  {
   "cell_type": "code",
   "execution_count": 11,
   "metadata": {
    "pycharm": {
     "name": "#%%\n"
    }
   },
   "outputs": [
    {
     "name": "stdout",
     "output_type": "stream",
     "text": [
      "dim_0        timeseries\n",
      "class_val        object\n",
      "dtype: object\n"
     ]
    }
   ],
   "source": [
    "print(X.dtypes)"
   ]
  },
  {
   "cell_type": "markdown",
   "metadata": {},
   "source": [
    "Using a custom pandas subclass further allows us to implement fast versions of common functions for time series manipulation such as tabularisation and slicing in the time dimension."
   ]
  },
  {
   "cell_type": "code",
   "execution_count": 12,
   "metadata": {
    "pycharm": {
     "name": "#%%\n"
    }
   },
   "outputs": [
    {
     "data": {
      "text/html": [
       "<div>\n",
       "<style scoped>\n",
       "    .dataframe tbody tr th:only-of-type {\n",
       "        vertical-align: middle;\n",
       "    }\n",
       "\n",
       "    .dataframe tbody tr th {\n",
       "        vertical-align: top;\n",
       "    }\n",
       "\n",
       "    .dataframe thead th {\n",
       "        text-align: right;\n",
       "    }\n",
       "</style>\n",
       "<table border=\"1\" class=\"dataframe\">\n",
       "  <thead>\n",
       "    <tr style=\"text-align: right;\">\n",
       "      <th></th>\n",
       "      <th>dim_0_0</th>\n",
       "      <th>dim_0_1</th>\n",
       "      <th>dim_0_2</th>\n",
       "      <th>dim_0_3</th>\n",
       "      <th>dim_0_4</th>\n",
       "      <th>dim_0_5</th>\n",
       "      <th>dim_0_6</th>\n",
       "      <th>dim_0_7</th>\n",
       "      <th>dim_0_8</th>\n",
       "      <th>dim_0_9</th>\n",
       "      <th>...</th>\n",
       "      <th>dim_0_141</th>\n",
       "      <th>dim_0_142</th>\n",
       "      <th>dim_0_143</th>\n",
       "      <th>dim_0_144</th>\n",
       "      <th>dim_0_145</th>\n",
       "      <th>dim_0_146</th>\n",
       "      <th>dim_0_147</th>\n",
       "      <th>dim_0_148</th>\n",
       "      <th>dim_0_149</th>\n",
       "      <th>class_val</th>\n",
       "    </tr>\n",
       "  </thead>\n",
       "  <tbody>\n",
       "    <tr>\n",
       "      <th>0</th>\n",
       "      <td>-0.64789</td>\n",
       "      <td>-0.64199</td>\n",
       "      <td>-0.63819</td>\n",
       "      <td>-0.63826</td>\n",
       "      <td>-0.63835</td>\n",
       "      <td>-0.63870</td>\n",
       "      <td>-0.64305</td>\n",
       "      <td>-0.64377</td>\n",
       "      <td>-0.64505</td>\n",
       "      <td>-0.64712</td>\n",
       "      <td>...</td>\n",
       "      <td>-0.63972</td>\n",
       "      <td>-0.63973</td>\n",
       "      <td>-0.64018</td>\n",
       "      <td>-0.63923</td>\n",
       "      <td>-0.63939</td>\n",
       "      <td>-0.64023</td>\n",
       "      <td>-0.64043</td>\n",
       "      <td>-0.63867</td>\n",
       "      <td>-0.63866</td>\n",
       "      <td>2</td>\n",
       "    </tr>\n",
       "    <tr>\n",
       "      <th>1</th>\n",
       "      <td>-0.64443</td>\n",
       "      <td>-0.64540</td>\n",
       "      <td>-0.64706</td>\n",
       "      <td>-0.64749</td>\n",
       "      <td>-0.64691</td>\n",
       "      <td>-0.64388</td>\n",
       "      <td>-0.63973</td>\n",
       "      <td>-0.63809</td>\n",
       "      <td>-0.63530</td>\n",
       "      <td>-0.63538</td>\n",
       "      <td>...</td>\n",
       "      <td>-0.64143</td>\n",
       "      <td>-0.63927</td>\n",
       "      <td>-0.63780</td>\n",
       "      <td>-0.63768</td>\n",
       "      <td>-0.63526</td>\n",
       "      <td>-0.63549</td>\n",
       "      <td>-0.63493</td>\n",
       "      <td>-0.63450</td>\n",
       "      <td>-0.63160</td>\n",
       "      <td>2</td>\n",
       "    </tr>\n",
       "    <tr>\n",
       "      <th>2</th>\n",
       "      <td>-0.77835</td>\n",
       "      <td>-0.77828</td>\n",
       "      <td>-0.77715</td>\n",
       "      <td>-0.77768</td>\n",
       "      <td>-0.77590</td>\n",
       "      <td>-0.77242</td>\n",
       "      <td>-0.76546</td>\n",
       "      <td>-0.76228</td>\n",
       "      <td>-0.76375</td>\n",
       "      <td>-0.76536</td>\n",
       "      <td>...</td>\n",
       "      <td>-0.71871</td>\n",
       "      <td>-0.71353</td>\n",
       "      <td>-0.71002</td>\n",
       "      <td>-0.70413</td>\n",
       "      <td>-0.70326</td>\n",
       "      <td>-0.70339</td>\n",
       "      <td>-0.70420</td>\n",
       "      <td>-0.70761</td>\n",
       "      <td>-0.70712</td>\n",
       "      <td>1</td>\n",
       "    </tr>\n",
       "    <tr>\n",
       "      <th>3</th>\n",
       "      <td>-0.75006</td>\n",
       "      <td>-0.74810</td>\n",
       "      <td>-0.74616</td>\n",
       "      <td>-0.74593</td>\n",
       "      <td>-0.74377</td>\n",
       "      <td>-0.74381</td>\n",
       "      <td>-0.74521</td>\n",
       "      <td>-0.74508</td>\n",
       "      <td>-0.74573</td>\n",
       "      <td>-0.74582</td>\n",
       "      <td>...</td>\n",
       "      <td>-0.72466</td>\n",
       "      <td>-0.72923</td>\n",
       "      <td>-0.72894</td>\n",
       "      <td>-0.72783</td>\n",
       "      <td>-0.72824</td>\n",
       "      <td>-0.72645</td>\n",
       "      <td>-0.72552</td>\n",
       "      <td>-0.72519</td>\n",
       "      <td>-0.72468</td>\n",
       "      <td>1</td>\n",
       "    </tr>\n",
       "    <tr>\n",
       "      <th>4</th>\n",
       "      <td>-0.59954</td>\n",
       "      <td>-0.59742</td>\n",
       "      <td>-0.59927</td>\n",
       "      <td>-0.59826</td>\n",
       "      <td>-0.59758</td>\n",
       "      <td>-0.59130</td>\n",
       "      <td>-0.58902</td>\n",
       "      <td>-0.58753</td>\n",
       "      <td>-0.58546</td>\n",
       "      <td>-0.58385</td>\n",
       "      <td>...</td>\n",
       "      <td>-0.64388</td>\n",
       "      <td>-0.64574</td>\n",
       "      <td>-0.64646</td>\n",
       "      <td>-0.64646</td>\n",
       "      <td>-0.64558</td>\n",
       "      <td>-0.64241</td>\n",
       "      <td>-0.64334</td>\n",
       "      <td>-0.63680</td>\n",
       "      <td>-0.63172</td>\n",
       "      <td>2</td>\n",
       "    </tr>\n",
       "    <tr>\n",
       "      <th>...</th>\n",
       "      <td>...</td>\n",
       "      <td>...</td>\n",
       "      <td>...</td>\n",
       "      <td>...</td>\n",
       "      <td>...</td>\n",
       "      <td>...</td>\n",
       "      <td>...</td>\n",
       "      <td>...</td>\n",
       "      <td>...</td>\n",
       "      <td>...</td>\n",
       "      <td>...</td>\n",
       "      <td>...</td>\n",
       "      <td>...</td>\n",
       "      <td>...</td>\n",
       "      <td>...</td>\n",
       "      <td>...</td>\n",
       "      <td>...</td>\n",
       "      <td>...</td>\n",
       "      <td>...</td>\n",
       "      <td>...</td>\n",
       "      <td>...</td>\n",
       "    </tr>\n",
       "    <tr>\n",
       "      <th>195</th>\n",
       "      <td>-0.58001</td>\n",
       "      <td>-0.58333</td>\n",
       "      <td>-0.58611</td>\n",
       "      <td>-0.58912</td>\n",
       "      <td>-0.59195</td>\n",
       "      <td>-0.59920</td>\n",
       "      <td>-0.60929</td>\n",
       "      <td>-0.61850</td>\n",
       "      <td>-0.62716</td>\n",
       "      <td>-0.63600</td>\n",
       "      <td>...</td>\n",
       "      <td>-0.53771</td>\n",
       "      <td>-0.53755</td>\n",
       "      <td>-0.53832</td>\n",
       "      <td>-0.53892</td>\n",
       "      <td>-0.54154</td>\n",
       "      <td>-0.54584</td>\n",
       "      <td>-0.54662</td>\n",
       "      <td>-0.54883</td>\n",
       "      <td>-0.55355</td>\n",
       "      <td>2</td>\n",
       "    </tr>\n",
       "    <tr>\n",
       "      <th>196</th>\n",
       "      <td>-0.72815</td>\n",
       "      <td>-0.73024</td>\n",
       "      <td>-0.73356</td>\n",
       "      <td>-0.73419</td>\n",
       "      <td>-0.73433</td>\n",
       "      <td>-0.73466</td>\n",
       "      <td>-0.73386</td>\n",
       "      <td>-0.73340</td>\n",
       "      <td>-0.73293</td>\n",
       "      <td>-0.73182</td>\n",
       "      <td>...</td>\n",
       "      <td>-0.76871</td>\n",
       "      <td>-0.74816</td>\n",
       "      <td>-0.72856</td>\n",
       "      <td>-0.71113</td>\n",
       "      <td>-0.69960</td>\n",
       "      <td>-0.68958</td>\n",
       "      <td>-0.68748</td>\n",
       "      <td>-0.68645</td>\n",
       "      <td>-0.69018</td>\n",
       "      <td>1</td>\n",
       "    </tr>\n",
       "    <tr>\n",
       "      <th>197</th>\n",
       "      <td>-0.73801</td>\n",
       "      <td>-0.73630</td>\n",
       "      <td>-0.73123</td>\n",
       "      <td>-0.72846</td>\n",
       "      <td>-0.72888</td>\n",
       "      <td>-0.72737</td>\n",
       "      <td>-0.72453</td>\n",
       "      <td>-0.72092</td>\n",
       "      <td>-0.71983</td>\n",
       "      <td>-0.71923</td>\n",
       "      <td>...</td>\n",
       "      <td>-0.61386</td>\n",
       "      <td>-0.61159</td>\n",
       "      <td>-0.60978</td>\n",
       "      <td>-0.60981</td>\n",
       "      <td>-0.60885</td>\n",
       "      <td>-0.61002</td>\n",
       "      <td>-0.60965</td>\n",
       "      <td>-0.60862</td>\n",
       "      <td>-0.61218</td>\n",
       "      <td>2</td>\n",
       "    </tr>\n",
       "    <tr>\n",
       "      <th>198</th>\n",
       "      <td>-1.26510</td>\n",
       "      <td>-1.25610</td>\n",
       "      <td>-1.25940</td>\n",
       "      <td>-1.25640</td>\n",
       "      <td>-1.25330</td>\n",
       "      <td>-1.26010</td>\n",
       "      <td>-1.26510</td>\n",
       "      <td>-1.25640</td>\n",
       "      <td>-1.24640</td>\n",
       "      <td>-1.24910</td>\n",
       "      <td>...</td>\n",
       "      <td>-1.19330</td>\n",
       "      <td>-1.19570</td>\n",
       "      <td>-1.18960</td>\n",
       "      <td>-1.17710</td>\n",
       "      <td>-1.18800</td>\n",
       "      <td>-1.18960</td>\n",
       "      <td>-1.20000</td>\n",
       "      <td>-1.19340</td>\n",
       "      <td>-1.19280</td>\n",
       "      <td>2</td>\n",
       "    </tr>\n",
       "    <tr>\n",
       "      <th>199</th>\n",
       "      <td>-1.42720</td>\n",
       "      <td>-1.40830</td>\n",
       "      <td>-1.34710</td>\n",
       "      <td>-1.29170</td>\n",
       "      <td>-1.26630</td>\n",
       "      <td>-1.26440</td>\n",
       "      <td>-1.27150</td>\n",
       "      <td>-1.27520</td>\n",
       "      <td>-1.27870</td>\n",
       "      <td>-1.27940</td>\n",
       "      <td>...</td>\n",
       "      <td>-1.03280</td>\n",
       "      <td>-1.03980</td>\n",
       "      <td>-1.04680</td>\n",
       "      <td>-1.05470</td>\n",
       "      <td>-1.06530</td>\n",
       "      <td>-1.08300</td>\n",
       "      <td>-1.10350</td>\n",
       "      <td>-1.15310</td>\n",
       "      <td>-1.22200</td>\n",
       "      <td>1</td>\n",
       "    </tr>\n",
       "  </tbody>\n",
       "</table>\n",
       "<p>200 rows × 151 columns</p>\n",
       "</div>"
      ],
      "text/plain": [
       "     dim_0_0  dim_0_1  dim_0_2  dim_0_3  dim_0_4  dim_0_5  dim_0_6  dim_0_7  \\\n",
       "0   -0.64789 -0.64199 -0.63819 -0.63826 -0.63835 -0.63870 -0.64305 -0.64377   \n",
       "1   -0.64443 -0.64540 -0.64706 -0.64749 -0.64691 -0.64388 -0.63973 -0.63809   \n",
       "2   -0.77835 -0.77828 -0.77715 -0.77768 -0.77590 -0.77242 -0.76546 -0.76228   \n",
       "3   -0.75006 -0.74810 -0.74616 -0.74593 -0.74377 -0.74381 -0.74521 -0.74508   \n",
       "4   -0.59954 -0.59742 -0.59927 -0.59826 -0.59758 -0.59130 -0.58902 -0.58753   \n",
       "..       ...      ...      ...      ...      ...      ...      ...      ...   \n",
       "195 -0.58001 -0.58333 -0.58611 -0.58912 -0.59195 -0.59920 -0.60929 -0.61850   \n",
       "196 -0.72815 -0.73024 -0.73356 -0.73419 -0.73433 -0.73466 -0.73386 -0.73340   \n",
       "197 -0.73801 -0.73630 -0.73123 -0.72846 -0.72888 -0.72737 -0.72453 -0.72092   \n",
       "198 -1.26510 -1.25610 -1.25940 -1.25640 -1.25330 -1.26010 -1.26510 -1.25640   \n",
       "199 -1.42720 -1.40830 -1.34710 -1.29170 -1.26630 -1.26440 -1.27150 -1.27520   \n",
       "\n",
       "     dim_0_8  dim_0_9  ...  dim_0_141  dim_0_142  dim_0_143  dim_0_144  \\\n",
       "0   -0.64505 -0.64712  ...   -0.63972   -0.63973   -0.64018   -0.63923   \n",
       "1   -0.63530 -0.63538  ...   -0.64143   -0.63927   -0.63780   -0.63768   \n",
       "2   -0.76375 -0.76536  ...   -0.71871   -0.71353   -0.71002   -0.70413   \n",
       "3   -0.74573 -0.74582  ...   -0.72466   -0.72923   -0.72894   -0.72783   \n",
       "4   -0.58546 -0.58385  ...   -0.64388   -0.64574   -0.64646   -0.64646   \n",
       "..       ...      ...  ...        ...        ...        ...        ...   \n",
       "195 -0.62716 -0.63600  ...   -0.53771   -0.53755   -0.53832   -0.53892   \n",
       "196 -0.73293 -0.73182  ...   -0.76871   -0.74816   -0.72856   -0.71113   \n",
       "197 -0.71983 -0.71923  ...   -0.61386   -0.61159   -0.60978   -0.60981   \n",
       "198 -1.24640 -1.24910  ...   -1.19330   -1.19570   -1.18960   -1.17710   \n",
       "199 -1.27870 -1.27940  ...   -1.03280   -1.03980   -1.04680   -1.05470   \n",
       "\n",
       "     dim_0_145  dim_0_146  dim_0_147  dim_0_148  dim_0_149  class_val  \n",
       "0     -0.63939   -0.64023   -0.64043   -0.63867   -0.63866          2  \n",
       "1     -0.63526   -0.63549   -0.63493   -0.63450   -0.63160          2  \n",
       "2     -0.70326   -0.70339   -0.70420   -0.70761   -0.70712          1  \n",
       "3     -0.72824   -0.72645   -0.72552   -0.72519   -0.72468          1  \n",
       "4     -0.64558   -0.64241   -0.64334   -0.63680   -0.63172          2  \n",
       "..         ...        ...        ...        ...        ...        ...  \n",
       "195   -0.54154   -0.54584   -0.54662   -0.54883   -0.55355          2  \n",
       "196   -0.69960   -0.68958   -0.68748   -0.68645   -0.69018          1  \n",
       "197   -0.60885   -0.61002   -0.60965   -0.60862   -0.61218          2  \n",
       "198   -1.18800   -1.18960   -1.20000   -1.19340   -1.19280          2  \n",
       "199   -1.06530   -1.08300   -1.10350   -1.15310   -1.22200          1  \n",
       "\n",
       "[200 rows x 151 columns]"
      ]
     },
     "execution_count": 12,
     "metadata": {},
     "output_type": "execute_result"
    }
   ],
   "source": [
    "# Tabularise the structure, i.e. convert to a 2D pandas.DataFrame\n",
    "X.tabularise()"
   ]
  },
  {
   "cell_type": "code",
   "execution_count": 13,
   "metadata": {
    "pycharm": {
     "name": "#%%\n"
    }
   },
   "outputs": [
    {
     "data": {
      "text/plain": [
       "0       [5: -0.6387, 6: -0.64305, ...]\n",
       "1      [5: -0.64388, 6: -0.63973, ...]\n",
       "2      [5: -0.77242, 6: -0.76546, ...]\n",
       "3      [5: -0.74381, 6: -0.74521, ...]\n",
       "4       [5: -0.5913, 6: -0.58902, ...]\n",
       "                    ...               \n",
       "195     [5: -0.5992, 6: -0.60929, ...]\n",
       "196    [5: -0.73466, 6: -0.73386, ...]\n",
       "197    [5: -0.72737, 6: -0.72453, ...]\n",
       "198      [5: -1.2601, 6: -1.2651, ...]\n",
       "199      [5: -1.2644, 6: -1.2715, ...]\n",
       "Name: dim_0, Length: 200, dtype: timeseries"
      ]
     },
     "execution_count": 13,
     "metadata": {},
     "output_type": "execute_result"
    }
   ],
   "source": [
    "# Segment across the time axis\n",
    "X.dim_0.slice_time(np.arange(5, 10))"
   ]
  },
  {
   "cell_type": "markdown",
   "metadata": {},
   "source": [
    "Making only small adjustments to the existing sktime code base, we can use this new data container to run a TimeSeriesClassificationTree"
   ]
  },
  {
   "cell_type": "code",
   "execution_count": 14,
   "metadata": {
    "pycharm": {
     "name": "#%%\n"
    }
   },
   "outputs": [
    {
     "data": {
      "text/plain": [
       "0.9"
      ]
     },
     "execution_count": 14,
     "metadata": {},
     "output_type": "execute_result"
    }
   ],
   "source": [
    "# Build a classification pipeline using this new data container\n",
    "# https://alan-turing-institute.github.io/sktime/examples/02_classification_univariate.html#Composable-time-series-forest\n",
    "X_train, X_test = train_test_split(X)\n",
    "\n",
    "steps = [\n",
    "    ('extract', RandomIntervalFeatureExtractor(n_intervals='sqrt',\n",
    "                                               features=[np.mean, np.std, time_series_slope])),\n",
    "    ('clf', DecisionTreeClassifier())\n",
    "]\n",
    "\n",
    "time_series_tree = Pipeline(steps)\n",
    "time_series_tree.fit(X_train[['dim_0']], X_train[['class_val']])\n",
    "time_series_tree.score(X_test[['dim_0']], X_test[['class_val']])"
   ]
  }
 ],
 "metadata": {
  "kernelspec": {
   "display_name": "Python 3",
   "language": "python",
   "name": "python3"
  },
  "language_info": {
   "codemirror_mode": {
    "name": "ipython",
    "version": 3
   },
   "file_extension": ".py",
   "mimetype": "text/x-python",
   "name": "python",
   "nbconvert_exporter": "python",
   "pygments_lexer": "ipython3",
   "version": "3.7.3"
  }
 },
 "nbformat": 4,
 "nbformat_minor": 1
}
