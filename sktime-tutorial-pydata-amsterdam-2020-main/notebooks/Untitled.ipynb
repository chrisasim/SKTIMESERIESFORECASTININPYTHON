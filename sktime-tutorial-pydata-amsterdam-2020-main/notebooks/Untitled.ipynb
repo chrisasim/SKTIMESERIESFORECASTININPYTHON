{
 "cells": [
  {
   "cell_type": "code",
   "execution_count": 3,
   "id": "79ad72c6",
   "metadata": {},
   "outputs": [
    {
     "name": "stdout",
     "output_type": "stream",
     "text": [
      "\r\n",
      "EnvironmentLocationNotFound: Not a conda environment: /home/christodoulos/jupyter_dir/sktime-tutorial-pydata-amsterdam-2020-main/notebooks/{sys.prefix}\r\n",
      "\r\n"
     ]
    }
   ],
   "source": [
    "!conda install --yes --prefix {sys.prefix} numpy"
   ]
  },
  {
   "cell_type": "code",
   "execution_count": 2,
   "id": "f04d1996",
   "metadata": {},
   "outputs": [
    {
     "name": "stdout",
     "output_type": "stream",
     "text": [
      "\r\n",
      "EnvironmentLocationNotFound: Not a conda environment: /home/christodoulos/jupyter_dir/sktime-tutorial-pydata-amsterdam-2020-main/notebooks/{sys.prefix}\r\n",
      "\r\n"
     ]
    }
   ],
   "source": [
    "!conda install --yes --prefix {sys.prefix} matplotlib"
   ]
  },
  {
   "cell_type": "code",
   "execution_count": null,
   "id": "1e1232f8",
   "metadata": {},
   "outputs": [],
   "source": []
  }
 ],
 "metadata": {
  "kernelspec": {
   "display_name": "Python 3 (ipykernel)",
   "language": "python",
   "name": "python3"
  },
  "language_info": {
   "codemirror_mode": {
    "name": "ipython",
    "version": 3
   },
   "file_extension": ".py",
   "mimetype": "text/x-python",
   "name": "python",
   "nbconvert_exporter": "python",
   "pygments_lexer": "ipython3",
   "version": "3.8.10"
  }
 },
 "nbformat": 4,
 "nbformat_minor": 5
}
